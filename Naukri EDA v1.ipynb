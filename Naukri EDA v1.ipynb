{
 "cells": [
  {
   "cell_type": "markdown",
   "metadata": {},
   "source": [
    "# 1. Importing libraries and datasets"
   ]
  },
  {
   "cell_type": "code",
   "execution_count": 1,
   "metadata": {},
   "outputs": [],
   "source": [
    "import pandas as pd\n",
    "import matplotlib.pyplot as plt\n",
    "import numpy as np\n",
    "import seaborn as sns"
   ]
  },
  {
   "cell_type": "code",
   "execution_count": 2,
   "metadata": {},
   "outputs": [],
   "source": [
    "pd.set_option('display.max_columns',100)\n",
    "pd.set_option('display.max_rows',100)\n",
    "df=pd.read_csv('~/Documents/Naukri Kaggle/Datasets/marketing_sample_for_naukri_com-jobs__20190701_20190830__30k_data.csv')"
   ]
  },
  {
   "cell_type": "code",
   "execution_count": 3,
   "metadata": {},
   "outputs": [
    {
     "data": {
      "text/html": [
       "<div>\n",
       "<style scoped>\n",
       "    .dataframe tbody tr th:only-of-type {\n",
       "        vertical-align: middle;\n",
       "    }\n",
       "\n",
       "    .dataframe tbody tr th {\n",
       "        vertical-align: top;\n",
       "    }\n",
       "\n",
       "    .dataframe thead th {\n",
       "        text-align: right;\n",
       "    }\n",
       "</style>\n",
       "<table border=\"1\" class=\"dataframe\">\n",
       "  <thead>\n",
       "    <tr style=\"text-align: right;\">\n",
       "      <th></th>\n",
       "      <th>Uniq Id</th>\n",
       "      <th>Crawl Timestamp</th>\n",
       "      <th>Job Title</th>\n",
       "      <th>Job Salary</th>\n",
       "      <th>Job Experience Required</th>\n",
       "      <th>Key Skills</th>\n",
       "      <th>Role Category</th>\n",
       "      <th>Location</th>\n",
       "      <th>Functional Area</th>\n",
       "      <th>Industry</th>\n",
       "      <th>Role</th>\n",
       "    </tr>\n",
       "  </thead>\n",
       "  <tbody>\n",
       "    <tr>\n",
       "      <th>0</th>\n",
       "      <td>9be62c49a0b7ebe982a4af1edaa7bc5f</td>\n",
       "      <td>2019-07-05 01:46:07 +0000</td>\n",
       "      <td>Digital Media Planner</td>\n",
       "      <td>Not Disclosed by Recruiter</td>\n",
       "      <td>5 - 10 yrs</td>\n",
       "      <td>Media Planning| Digital Media</td>\n",
       "      <td>Advertising</td>\n",
       "      <td>Mumbai</td>\n",
       "      <td>Marketing , Advertising , MR , PR , Media Plan...</td>\n",
       "      <td>Advertising, PR, MR, Event Management</td>\n",
       "      <td>Media Planning Executive/Manager</td>\n",
       "    </tr>\n",
       "    <tr>\n",
       "      <th>1</th>\n",
       "      <td>3c52d436e39f596b22519da2612f6a56</td>\n",
       "      <td>2019-07-06 08:04:50 +0000</td>\n",
       "      <td>Online Bidding Executive</td>\n",
       "      <td>Not Disclosed by Recruiter</td>\n",
       "      <td>2 - 5 yrs</td>\n",
       "      <td>pre sales| closing| software knowledge| clien...</td>\n",
       "      <td>Retail Sales</td>\n",
       "      <td>Pune,Pune</td>\n",
       "      <td>Sales , Retail , Business Development</td>\n",
       "      <td>IT-Software, Software Services</td>\n",
       "      <td>Sales Executive/Officer</td>\n",
       "    </tr>\n",
       "    <tr>\n",
       "      <th>2</th>\n",
       "      <td>ffad8a2396c60be2bf6d0e2ff47c58d4</td>\n",
       "      <td>2019-08-05 15:50:44 +0000</td>\n",
       "      <td>Trainee Research/ Research Executive- Hi- Tec...</td>\n",
       "      <td>Not Disclosed by Recruiter</td>\n",
       "      <td>0 - 1 yrs</td>\n",
       "      <td>Computer science| Fabrication| Quality check|...</td>\n",
       "      <td>R&amp;D</td>\n",
       "      <td>Gurgaon</td>\n",
       "      <td>Engineering Design , R&amp;D</td>\n",
       "      <td>Recruitment, Staffing</td>\n",
       "      <td>R&amp;D Executive</td>\n",
       "    </tr>\n",
       "    <tr>\n",
       "      <th>3</th>\n",
       "      <td>7b921f51b5c2fb862b4a5f7a54c37f75</td>\n",
       "      <td>2019-08-05 15:31:56 +0000</td>\n",
       "      <td>Technical Support</td>\n",
       "      <td>2,00,000 - 4,00,000 PA.</td>\n",
       "      <td>0 - 5 yrs</td>\n",
       "      <td>Technical Support</td>\n",
       "      <td>Admin/Maintenance/Security/Datawarehousing</td>\n",
       "      <td>Mumbai</td>\n",
       "      <td>IT Software - Application Programming , Mainte...</td>\n",
       "      <td>IT-Software, Software Services</td>\n",
       "      <td>Technical Support Engineer</td>\n",
       "    </tr>\n",
       "    <tr>\n",
       "      <th>4</th>\n",
       "      <td>2d8b7d44e138a54d5dc841163138de50</td>\n",
       "      <td>2019-07-05 02:48:29 +0000</td>\n",
       "      <td>Software Test Engineer -hyderabad</td>\n",
       "      <td>Not Disclosed by Recruiter</td>\n",
       "      <td>2 - 5 yrs</td>\n",
       "      <td>manual testing| test engineering| test cases|...</td>\n",
       "      <td>Programming &amp; Design</td>\n",
       "      <td>Hyderabad</td>\n",
       "      <td>IT Software - QA &amp; Testing</td>\n",
       "      <td>IT-Software, Software Services</td>\n",
       "      <td>Testing Engineer</td>\n",
       "    </tr>\n",
       "  </tbody>\n",
       "</table>\n",
       "</div>"
      ],
      "text/plain": [
       "                            Uniq Id            Crawl Timestamp  \\\n",
       "0  9be62c49a0b7ebe982a4af1edaa7bc5f  2019-07-05 01:46:07 +0000   \n",
       "1  3c52d436e39f596b22519da2612f6a56  2019-07-06 08:04:50 +0000   \n",
       "2  ffad8a2396c60be2bf6d0e2ff47c58d4  2019-08-05 15:50:44 +0000   \n",
       "3  7b921f51b5c2fb862b4a5f7a54c37f75  2019-08-05 15:31:56 +0000   \n",
       "4  2d8b7d44e138a54d5dc841163138de50  2019-07-05 02:48:29 +0000   \n",
       "\n",
       "                                           Job Title  \\\n",
       "0                              Digital Media Planner   \n",
       "1                           Online Bidding Executive   \n",
       "2   Trainee Research/ Research Executive- Hi- Tec...   \n",
       "3                                  Technical Support   \n",
       "4                  Software Test Engineer -hyderabad   \n",
       "\n",
       "                     Job Salary Job Experience Required  \\\n",
       "0   Not Disclosed by Recruiter               5 - 10 yrs   \n",
       "1   Not Disclosed by Recruiter                2 - 5 yrs   \n",
       "2   Not Disclosed by Recruiter                0 - 1 yrs   \n",
       "3      2,00,000 - 4,00,000 PA.                0 - 5 yrs   \n",
       "4   Not Disclosed by Recruiter                2 - 5 yrs   \n",
       "\n",
       "                                          Key Skills  \\\n",
       "0                      Media Planning| Digital Media   \n",
       "1   pre sales| closing| software knowledge| clien...   \n",
       "2   Computer science| Fabrication| Quality check|...   \n",
       "3                                  Technical Support   \n",
       "4   manual testing| test engineering| test cases|...   \n",
       "\n",
       "                                Role Category   Location  \\\n",
       "0                                 Advertising     Mumbai   \n",
       "1                                Retail Sales  Pune,Pune   \n",
       "2                                         R&D    Gurgaon   \n",
       "3  Admin/Maintenance/Security/Datawarehousing     Mumbai   \n",
       "4                        Programming & Design  Hyderabad   \n",
       "\n",
       "                                     Functional Area  \\\n",
       "0  Marketing , Advertising , MR , PR , Media Plan...   \n",
       "1              Sales , Retail , Business Development   \n",
       "2                           Engineering Design , R&D   \n",
       "3  IT Software - Application Programming , Mainte...   \n",
       "4                         IT Software - QA & Testing   \n",
       "\n",
       "                                Industry                              Role  \n",
       "0  Advertising, PR, MR, Event Management  Media Planning Executive/Manager  \n",
       "1         IT-Software, Software Services           Sales Executive/Officer  \n",
       "2                  Recruitment, Staffing                     R&D Executive  \n",
       "3         IT-Software, Software Services        Technical Support Engineer  \n",
       "4         IT-Software, Software Services                  Testing Engineer  "
      ]
     },
     "execution_count": 3,
     "metadata": {},
     "output_type": "execute_result"
    }
   ],
   "source": [
    "df.head()"
   ]
  },
  {
   "cell_type": "markdown",
   "metadata": {},
   "source": [
    "# 2. Data wrangling"
   ]
  },
  {
   "cell_type": "markdown",
   "metadata": {},
   "source": [
    "Let us check the type of data which we are given with."
   ]
  },
  {
   "cell_type": "code",
   "execution_count": 4,
   "metadata": {},
   "outputs": [
    {
     "data": {
      "text/plain": [
       "Uniq Id                    object\n",
       "Crawl Timestamp            object\n",
       "Job Title                  object\n",
       "Job Salary                 object\n",
       "Job Experience Required    object\n",
       "Key Skills                 object\n",
       "Role Category              object\n",
       "Location                   object\n",
       "Functional Area            object\n",
       "Industry                   object\n",
       "Role                       object\n",
       "dtype: object"
      ]
     },
     "execution_count": 4,
     "metadata": {},
     "output_type": "execute_result"
    }
   ],
   "source": [
    "df.dtypes"
   ]
  },
  {
   "cell_type": "markdown",
   "metadata": {},
   "source": [
    "As we can see, all the data types have been encoded as objects. However, upon eyeballing into the data, we clearly see that we have some data that will be preferred to be in another form. For example, it will be better if we change the Crawl Timestamp into timestamp datatype. Similarly, the Job Experience column and salary can be shown as integer datatypes."
   ]
  },
  {
   "cell_type": "markdown",
   "metadata": {},
   "source": [
    "## Converting the crawl timestamp column into timestamp datatype"
   ]
  },
  {
   "cell_type": "markdown",
   "metadata": {},
   "source": [
    "Let us remove the unwanted **+0000** in the timestamp column first."
   ]
  },
  {
   "cell_type": "code",
   "execution_count": 5,
   "metadata": {},
   "outputs": [],
   "source": [
    "for i in range(len(df)):\n",
    "    df['Crawl Timestamp'][i]=df['Crawl Timestamp'][i].replace('+0000','')\n",
    "    i+=1"
   ]
  },
  {
   "cell_type": "code",
   "execution_count": 6,
   "metadata": {},
   "outputs": [
    {
     "data": {
      "text/html": [
       "<div>\n",
       "<style scoped>\n",
       "    .dataframe tbody tr th:only-of-type {\n",
       "        vertical-align: middle;\n",
       "    }\n",
       "\n",
       "    .dataframe tbody tr th {\n",
       "        vertical-align: top;\n",
       "    }\n",
       "\n",
       "    .dataframe thead th {\n",
       "        text-align: right;\n",
       "    }\n",
       "</style>\n",
       "<table border=\"1\" class=\"dataframe\">\n",
       "  <thead>\n",
       "    <tr style=\"text-align: right;\">\n",
       "      <th></th>\n",
       "      <th>Uniq Id</th>\n",
       "      <th>Crawl Timestamp</th>\n",
       "      <th>Job Title</th>\n",
       "      <th>Job Salary</th>\n",
       "      <th>Job Experience Required</th>\n",
       "      <th>Key Skills</th>\n",
       "      <th>Role Category</th>\n",
       "      <th>Location</th>\n",
       "      <th>Functional Area</th>\n",
       "      <th>Industry</th>\n",
       "      <th>Role</th>\n",
       "    </tr>\n",
       "  </thead>\n",
       "  <tbody>\n",
       "    <tr>\n",
       "      <th>0</th>\n",
       "      <td>9be62c49a0b7ebe982a4af1edaa7bc5f</td>\n",
       "      <td>2019-07-05 01:46:07</td>\n",
       "      <td>Digital Media Planner</td>\n",
       "      <td>Not Disclosed by Recruiter</td>\n",
       "      <td>5 - 10 yrs</td>\n",
       "      <td>Media Planning| Digital Media</td>\n",
       "      <td>Advertising</td>\n",
       "      <td>Mumbai</td>\n",
       "      <td>Marketing , Advertising , MR , PR , Media Plan...</td>\n",
       "      <td>Advertising, PR, MR, Event Management</td>\n",
       "      <td>Media Planning Executive/Manager</td>\n",
       "    </tr>\n",
       "    <tr>\n",
       "      <th>1</th>\n",
       "      <td>3c52d436e39f596b22519da2612f6a56</td>\n",
       "      <td>2019-07-06 08:04:50</td>\n",
       "      <td>Online Bidding Executive</td>\n",
       "      <td>Not Disclosed by Recruiter</td>\n",
       "      <td>2 - 5 yrs</td>\n",
       "      <td>pre sales| closing| software knowledge| clien...</td>\n",
       "      <td>Retail Sales</td>\n",
       "      <td>Pune,Pune</td>\n",
       "      <td>Sales , Retail , Business Development</td>\n",
       "      <td>IT-Software, Software Services</td>\n",
       "      <td>Sales Executive/Officer</td>\n",
       "    </tr>\n",
       "    <tr>\n",
       "      <th>2</th>\n",
       "      <td>ffad8a2396c60be2bf6d0e2ff47c58d4</td>\n",
       "      <td>2019-08-05 15:50:44</td>\n",
       "      <td>Trainee Research/ Research Executive- Hi- Tec...</td>\n",
       "      <td>Not Disclosed by Recruiter</td>\n",
       "      <td>0 - 1 yrs</td>\n",
       "      <td>Computer science| Fabrication| Quality check|...</td>\n",
       "      <td>R&amp;D</td>\n",
       "      <td>Gurgaon</td>\n",
       "      <td>Engineering Design , R&amp;D</td>\n",
       "      <td>Recruitment, Staffing</td>\n",
       "      <td>R&amp;D Executive</td>\n",
       "    </tr>\n",
       "    <tr>\n",
       "      <th>3</th>\n",
       "      <td>7b921f51b5c2fb862b4a5f7a54c37f75</td>\n",
       "      <td>2019-08-05 15:31:56</td>\n",
       "      <td>Technical Support</td>\n",
       "      <td>2,00,000 - 4,00,000 PA.</td>\n",
       "      <td>0 - 5 yrs</td>\n",
       "      <td>Technical Support</td>\n",
       "      <td>Admin/Maintenance/Security/Datawarehousing</td>\n",
       "      <td>Mumbai</td>\n",
       "      <td>IT Software - Application Programming , Mainte...</td>\n",
       "      <td>IT-Software, Software Services</td>\n",
       "      <td>Technical Support Engineer</td>\n",
       "    </tr>\n",
       "    <tr>\n",
       "      <th>4</th>\n",
       "      <td>2d8b7d44e138a54d5dc841163138de50</td>\n",
       "      <td>2019-07-05 02:48:29</td>\n",
       "      <td>Software Test Engineer -hyderabad</td>\n",
       "      <td>Not Disclosed by Recruiter</td>\n",
       "      <td>2 - 5 yrs</td>\n",
       "      <td>manual testing| test engineering| test cases|...</td>\n",
       "      <td>Programming &amp; Design</td>\n",
       "      <td>Hyderabad</td>\n",
       "      <td>IT Software - QA &amp; Testing</td>\n",
       "      <td>IT-Software, Software Services</td>\n",
       "      <td>Testing Engineer</td>\n",
       "    </tr>\n",
       "  </tbody>\n",
       "</table>\n",
       "</div>"
      ],
      "text/plain": [
       "                            Uniq Id       Crawl Timestamp  \\\n",
       "0  9be62c49a0b7ebe982a4af1edaa7bc5f  2019-07-05 01:46:07    \n",
       "1  3c52d436e39f596b22519da2612f6a56  2019-07-06 08:04:50    \n",
       "2  ffad8a2396c60be2bf6d0e2ff47c58d4  2019-08-05 15:50:44    \n",
       "3  7b921f51b5c2fb862b4a5f7a54c37f75  2019-08-05 15:31:56    \n",
       "4  2d8b7d44e138a54d5dc841163138de50  2019-07-05 02:48:29    \n",
       "\n",
       "                                           Job Title  \\\n",
       "0                              Digital Media Planner   \n",
       "1                           Online Bidding Executive   \n",
       "2   Trainee Research/ Research Executive- Hi- Tec...   \n",
       "3                                  Technical Support   \n",
       "4                  Software Test Engineer -hyderabad   \n",
       "\n",
       "                     Job Salary Job Experience Required  \\\n",
       "0   Not Disclosed by Recruiter               5 - 10 yrs   \n",
       "1   Not Disclosed by Recruiter                2 - 5 yrs   \n",
       "2   Not Disclosed by Recruiter                0 - 1 yrs   \n",
       "3      2,00,000 - 4,00,000 PA.                0 - 5 yrs   \n",
       "4   Not Disclosed by Recruiter                2 - 5 yrs   \n",
       "\n",
       "                                          Key Skills  \\\n",
       "0                      Media Planning| Digital Media   \n",
       "1   pre sales| closing| software knowledge| clien...   \n",
       "2   Computer science| Fabrication| Quality check|...   \n",
       "3                                  Technical Support   \n",
       "4   manual testing| test engineering| test cases|...   \n",
       "\n",
       "                                Role Category   Location  \\\n",
       "0                                 Advertising     Mumbai   \n",
       "1                                Retail Sales  Pune,Pune   \n",
       "2                                         R&D    Gurgaon   \n",
       "3  Admin/Maintenance/Security/Datawarehousing     Mumbai   \n",
       "4                        Programming & Design  Hyderabad   \n",
       "\n",
       "                                     Functional Area  \\\n",
       "0  Marketing , Advertising , MR , PR , Media Plan...   \n",
       "1              Sales , Retail , Business Development   \n",
       "2                           Engineering Design , R&D   \n",
       "3  IT Software - Application Programming , Mainte...   \n",
       "4                         IT Software - QA & Testing   \n",
       "\n",
       "                                Industry                              Role  \n",
       "0  Advertising, PR, MR, Event Management  Media Planning Executive/Manager  \n",
       "1         IT-Software, Software Services           Sales Executive/Officer  \n",
       "2                  Recruitment, Staffing                     R&D Executive  \n",
       "3         IT-Software, Software Services        Technical Support Engineer  \n",
       "4         IT-Software, Software Services                  Testing Engineer  "
      ]
     },
     "execution_count": 6,
     "metadata": {},
     "output_type": "execute_result"
    }
   ],
   "source": [
    "df.head()"
   ]
  },
  {
   "cell_type": "markdown",
   "metadata": {},
   "source": [
    "As we can see, the timestamp is in a more understandable form and can be converted into the required timestamp data frame using pandas.to_datetime method ."
   ]
  },
  {
   "cell_type": "code",
   "execution_count": 7,
   "metadata": {},
   "outputs": [],
   "source": [
    "df['Crawl Timestamp']=pd.to_datetime(df['Crawl Timestamp'])"
   ]
  },
  {
   "cell_type": "code",
   "execution_count": 8,
   "metadata": {},
   "outputs": [
    {
     "data": {
      "text/plain": [
       "0   2019-07-05 01:46:07\n",
       "1   2019-07-06 08:04:50\n",
       "2   2019-08-05 15:50:44\n",
       "3   2019-08-05 15:31:56\n",
       "4   2019-07-05 02:48:29\n",
       "Name: Crawl Timestamp, dtype: datetime64[ns]"
      ]
     },
     "execution_count": 8,
     "metadata": {},
     "output_type": "execute_result"
    }
   ],
   "source": [
    "df['Crawl Timestamp'][:5]"
   ]
  },
  {
   "cell_type": "markdown",
   "metadata": {},
   "source": [
    "As we can see, the above Crawl Timestamp column is in the required datetime format."
   ]
  },
  {
   "cell_type": "markdown",
   "metadata": {},
   "source": [
    "## Missing values"
   ]
  },
  {
   "cell_type": "markdown",
   "metadata": {},
   "source": [
    "We need to check for the presence of any missing values and take care of these missing values. In this case, we will simply drop the missing values as we are primarily dealing with data visualisation and dropping few entries will not severly harm any calculations."
   ]
  },
  {
   "cell_type": "code",
   "execution_count": 43,
   "metadata": {},
   "outputs": [
    {
     "data": {
      "text/plain": [
       "Uniq Id                    False\n",
       "Crawl Timestamp            False\n",
       "Job Title                   True\n",
       "Job Salary                  True\n",
       "Job Experience Required     True\n",
       "Key Skills                  True\n",
       "Role Category               True\n",
       "Location                    True\n",
       "Functional Area             True\n",
       "Industry                    True\n",
       "Role                        True\n",
       "dtype: bool"
      ]
     },
     "execution_count": 43,
     "metadata": {},
     "output_type": "execute_result"
    }
   ],
   "source": [
    "df.isna().any()"
   ]
  },
  {
   "cell_type": "code",
   "execution_count": 45,
   "metadata": {},
   "outputs": [
    {
     "name": "stdout",
     "output_type": "stream",
     "text": [
      "Number of missing values in Job Title: 575\n",
      "Number of missing values in Job Salary: 50\n",
      "Number of missing values in Job Experience Required: 573\n",
      "Number of missing values in Key Skills: 1271\n",
      "Number of missing values in Role Category: 2305\n",
      "Number of missing values in Location: 577\n",
      "Number of missing values in Functional Area: 573\n",
      "Number of missing values in Industry: 573\n",
      "Number of missing values in Role: 901\n",
      "Total entries:30000\n"
     ]
    }
   ],
   "source": [
    "cols=[ 'Job Title', 'Job Salary',\n",
    "       'Job Experience Required', 'Key Skills', 'Role Category', 'Location',\n",
    "       'Functional Area', 'Industry', 'Role']\n",
    "for col in cols:\n",
    "    print('Number of missing values in {}: {}'.format(col,df[col].isna().value_counts()[1]))\n",
    "print('Total entries:{}'.format(len(df)))"
   ]
  },
  {
   "cell_type": "markdown",
   "metadata": {},
   "source": [
    "As we can see, the number of missing values in each column is not much. Even if we drop all the missing values, we should be able to get a good deptiction of the general data trend. Let us now drop all the missing values in the dataframe."
   ]
  },
  {
   "cell_type": "code",
   "execution_count": 46,
   "metadata": {},
   "outputs": [],
   "source": [
    "df.dropna(axis=0,inplace=True)"
   ]
  },
  {
   "cell_type": "code",
   "execution_count": 48,
   "metadata": {},
   "outputs": [
    {
     "data": {
      "text/plain": [
       "Uniq Id                    False\n",
       "Crawl Timestamp            False\n",
       "Job Title                  False\n",
       "Job Salary                 False\n",
       "Job Experience Required    False\n",
       "Key Skills                 False\n",
       "Role Category              False\n",
       "Location                   False\n",
       "Functional Area            False\n",
       "Industry                   False\n",
       "Role                       False\n",
       "dtype: bool"
      ]
     },
     "execution_count": 48,
     "metadata": {},
     "output_type": "execute_result"
    }
   ],
   "source": [
    "df.isna().any()"
   ]
  },
  {
   "cell_type": "code",
   "execution_count": 52,
   "metadata": {},
   "outputs": [
    {
     "data": {
      "text/plain": [
       "297055"
      ]
     },
     "execution_count": 52,
     "metadata": {},
     "output_type": "execute_result"
    }
   ],
   "source": [
    "df.size"
   ]
  },
  {
   "cell_type": "markdown",
   "metadata": {},
   "source": [
    "As we can see, the size of the dataframe reduced from 30000 to 297055. The loss of data isn't much and can be worked with now."
   ]
  },
  {
   "cell_type": "code",
   "execution_count": null,
   "metadata": {},
   "outputs": [],
   "source": []
  }
 ],
 "metadata": {
  "kernelspec": {
   "display_name": "Python 3",
   "language": "python",
   "name": "python3"
  },
  "language_info": {
   "codemirror_mode": {
    "name": "ipython",
    "version": 3
   },
   "file_extension": ".py",
   "mimetype": "text/x-python",
   "name": "python",
   "nbconvert_exporter": "python",
   "pygments_lexer": "ipython3",
   "version": "3.7.4"
  }
 },
 "nbformat": 4,
 "nbformat_minor": 2
}
